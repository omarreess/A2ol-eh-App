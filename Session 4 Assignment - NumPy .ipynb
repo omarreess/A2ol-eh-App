{
  "cells": [
    {
      "cell_type": "markdown",
      "metadata": {
        "id": "view-in-github",
        "colab_type": "text"
      },
      "source": [
        "<a href=\"https://colab.research.google.com/github/omarreess/A2ol-eh-App/blob/master/Session%204%20Assignment%20-%20NumPy%20.ipynb\" target=\"_parent\"><img src=\"https://colab.research.google.com/assets/colab-badge.svg\" alt=\"Open In Colab\"/></a>"
      ]
    },
    {
      "cell_type": "markdown",
      "source": [
        "# Classes"
      ],
      "metadata": {
        "id": "xKnoMCv1bDpq"
      }
    },
    {
      "cell_type": "code",
      "source": [
        "# Create a class that has 2 methods/functions\n",
        "# first function named add and takes 2 inputs and adds them\n",
        "# second function named subtract and takes 2 inputs and subtract them\n",
        "# Test your function with any 2 numbers\n",
        "\n",
        "class testC :\n",
        " \n",
        "  def __init__(self,num1,num2):\n",
        "    self.num1 = num1\n",
        "    self.num2 = num2\n",
        "\n",
        "  def add(self   ) : return self.num1 + self.num2\n",
        "\n",
        "  def subtract(self ):return self.num1 - self.num2\n",
        "\n",
        "obj1 = testC(5 , 10) \n",
        "print(f\"{obj1.add()}\")\n",
        "print (obj1.subtract() )\n"
      ],
      "metadata": {
        "colab": {
          "base_uri": "https://localhost:8080/"
        },
        "id": "lbxvTccOMW_7",
        "outputId": "d43247f3-3fa1-483c-a265-74cc85239a1c"
      },
      "execution_count": 1,
      "outputs": [
        {
          "output_type": "stream",
          "name": "stdout",
          "text": [
            "15\n",
            "-5\n"
          ]
        }
      ]
    },
    {
      "cell_type": "code",
      "source": [
        "# Create a class that can take variables of first and last name, create an object from the class\n",
        "class testC2 : \n",
        "  def __init__(self, fName, lName):\n",
        "    self.firstName = fName\n",
        "    self.lastName = lName\n",
        "  def f (self) :\n",
        "    self .hh=\"sd\"\n",
        "\n",
        "\n",
        "obj1 = testC2(\"Omar\",\"Essam\")\n",
        "print (obj1.firstName +\" \"+ obj1.lastName )\n"
      ],
      "metadata": {
        "id": "FDGsWfeYMW88",
        "colab": {
          "base_uri": "https://localhost:8080/"
        },
        "outputId": "c278e439-b312-49eb-e3d0-f9f484f859f2"
      },
      "execution_count": null,
      "outputs": [
        {
          "output_type": "stream",
          "name": "stdout",
          "text": [
            "Omar Essam\n"
          ]
        }
      ]
    },
    {
      "cell_type": "markdown",
      "metadata": {
        "id": "ZDr01GkMxz0f"
      },
      "source": [
        "# Numpy\n"
      ]
    },
    {
      "cell_type": "code",
      "source": [
        "# Create a numpy array of any shape and print it\n",
        "import numpy as np\n",
        "\n",
        "arr2 = np.array([[1, 2, 3],[1,2,4]])\n",
        "\n",
        "\n",
        "# Print the shape of the array \n",
        "print(arr2.shape)\n",
        "\n",
        "# Change the first value of the array to any value and print the array\n",
        "arr2[[0], [0]]=7\n",
        "print (arr2)"
      ],
      "metadata": {
        "id": "zOT5JWUgYvyM",
        "colab": {
          "base_uri": "https://localhost:8080/"
        },
        "outputId": "fbd81621-510d-4efe-a29f-61ddeb220efe"
      },
      "execution_count": null,
      "outputs": [
        {
          "output_type": "stream",
          "name": "stdout",
          "text": [
            "(2, 3)\n",
            "[[7 2 3]\n",
            " [1 2 4]]\n"
          ]
        }
      ]
    },
    {
      "cell_type": "code",
      "execution_count": null,
      "metadata": {
        "colab": {
          "base_uri": "https://localhost:8080/"
        },
        "id": "mzKZq47cxz1I",
        "outputId": "17609430-c9c5-442b-b6c5-1f4c9a61acfb"
      },
      "outputs": [
        {
          "output_type": "stream",
          "name": "stdout",
          "text": [
            "[[ 7  8]\n",
            " [11 12]]\n",
            "[5 6 7 8]\n",
            "[ 2  6 10]\n"
          ]
        }
      ],
      "source": [
        "a = np.array([[1,2,3,4],\n",
        "              [5,6,7,8],\n",
        "              [9,10,11,12]\n",
        "              ])\n",
        "# Use slicing and print\n",
        "# [[7 8]\n",
        "#  [11 12]]\n",
        "print(a[1:3,2:4 ])\n",
        "\n",
        "# Print [ 5  6  7  8] using indexing\n",
        "print(a[1 ,: ])\n",
        "\n",
        "\n",
        "# Print the 2nd column\n",
        "print(a[:,1 ])\n"
      ]
    },
    {
      "cell_type": "code",
      "execution_count": null,
      "metadata": {
        "colab": {
          "base_uri": "https://localhost:8080/"
        },
        "id": "bPbytaGd7TqE",
        "outputId": "5e2d918d-021b-4cab-e7a7-0d3538f662b7"
      },
      "outputs": [
        {
          "output_type": "stream",
          "name": "stdout",
          "text": [
            "[ 0  2  4  6  8 10 12 14 16 18 20 22 24 26 28 30 32 34 36 38 40 42 44 46\n",
            " 48 50 52 54 56 58 60 62 64 66 68 70 72 74 76 78 80 82 84 86 88 90 92 94\n",
            " 96 98]\n"
          ]
        }
      ],
      "source": [
        "# Use boolean indexing to print even numbers only\n",
        "arr = np.array(range(0,100))\n",
        "print(arr[arr%2 ==0])\n"
      ]
    },
    {
      "cell_type": "code",
      "execution_count": null,
      "metadata": {
        "colab": {
          "base_uri": "https://localhost:8080/"
        },
        "id": "4pvlFdpBxz1l",
        "outputId": "0f1e0594-6a0a-4cd9-a5ea-cdc72e4b8c1a"
      },
      "outputs": [
        {
          "output_type": "execute_result",
          "data": {
            "text/plain": [
              "numpy.ndarray"
            ]
          },
          "metadata": {},
          "execution_count": 21
        }
      ],
      "source": [
        "# Convert the array to type integer, DO NOT use dtype=, check online np.astype() and use it\n",
        "x = np.array([10.5, 42.123]) \n",
        "\n",
        "a_int = x.astype('int64')\n",
        "type(a_int)\n"
      ]
    },
    {
      "cell_type": "code",
      "execution_count": null,
      "metadata": {
        "colab": {
          "base_uri": "https://localhost:8080/"
        },
        "id": "zfXxoCfPekj7",
        "outputId": "8fa18677-4b53-4a19-e359-18f9459d8c81"
      },
      "outputs": [
        {
          "output_type": "stream",
          "name": "stdout",
          "text": [
            "[1 2 3 4 5 6]\n",
            "[[1 2 3]\n",
            " [4 5 6]]\n"
          ]
        }
      ],
      "source": [
        "# Concatenate the 2 arrays vertically and horizontally\n",
        "a = np.array([1,2,3])\n",
        "b = np.array([4,5,6])\n",
        "\n",
        "#horizontally\n",
        "newhArr= np.concatenate((a,b),)\n",
        "print (newhArr)\n",
        "\n",
        "#vertically\n",
        "newvArr= np.array((a,b),)\n",
        "print (newvArr)"
      ]
    },
    {
      "cell_type": "code",
      "execution_count": null,
      "metadata": {
        "colab": {
          "base_uri": "https://localhost:8080/"
        },
        "id": "26SiLYIvxz2J",
        "outputId": "1525d1f6-660e-4140-b88f-6e008f180119"
      },
      "outputs": [
        {
          "output_type": "stream",
          "name": "stdout",
          "text": [
            "[[ 2  2  4]\n",
            " [ 5  5  7]\n",
            " [ 8  8 10]\n",
            " [11 11 13]]\n"
          ]
        }
      ],
      "source": [
        "# Add the array V to each row of array X\n",
        "x = np.array([[1,2,3], \n",
        "              [4,5,6],\n",
        "              [7,8,9],\n",
        "              [10, 11, 12]])\n",
        "v = np.array([1, 0, 1])\n",
        "\n",
        "#\n",
        " \n",
        "newArr5 = np.empty(x.shape   , dtype=int)\n",
        "newArr5=x+v\n",
        "\n",
        "print (newArr5)  \n",
        "    \n",
        " "
      ]
    }
  ],
  "metadata": {
    "colab": {
      "collapsed_sections": [],
      "name": "S4 Assignments - Python NumPy",
      "provenance": [],
      "include_colab_link": true
    },
    "kernelspec": {
      "display_name": "Python 3",
      "language": "python",
      "name": "python3"
    },
    "language_info": {
      "codemirror_mode": {
        "name": "ipython",
        "version": 3
      },
      "file_extension": ".py",
      "mimetype": "text/x-python",
      "name": "python",
      "nbconvert_exporter": "python",
      "pygments_lexer": "ipython3",
      "version": "3.7.3"
    },
    "gpuClass": "standard"
  },
  "nbformat": 4,
  "nbformat_minor": 0
}